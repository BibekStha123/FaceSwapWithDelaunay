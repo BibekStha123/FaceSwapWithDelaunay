{
 "cells": [
  {
   "cell_type": "code",
   "execution_count": 1,
   "metadata": {},
   "outputs": [],
   "source": [
    "import matplotlib.pyplot as ply"
   ]
  },
  {
   "cell_type": "code",
   "execution_count": 11,
   "metadata": {},
   "outputs": [
    {
     "name": "stdout",
     "output_type": "stream",
     "text": [
      "[[1623 1051]\n",
      " [1640 1173]\n",
      " [1666 1292]\n",
      " [1699 1410]\n",
      " [1749 1519]\n",
      " [1823 1615]\n",
      " [1914 1694]\n",
      " [2019 1755]\n",
      " [2134 1768]\n",
      " [2248 1737]\n",
      " [2348 1660]\n",
      " [2427 1567]\n",
      " [2488 1461]\n",
      " [2518 1342]\n",
      " [2525 1215]\n",
      " [2524 1092]\n",
      " [2510  971]\n",
      " [1682  921]\n",
      " [1729  850]\n",
      " [1813  823]\n",
      " [1900  825]\n",
      " [1986  849]\n",
      " [2130  837]\n",
      " [2212  798]\n",
      " [2299  777]\n",
      " [2388  785]\n",
      " [2450  842]\n",
      " [2067  962]\n",
      " [2074 1057]\n",
      " [2080 1151]\n",
      " [2086 1248]\n",
      " [1992 1304]\n",
      " [2043 1317]\n",
      " [2095 1327]\n",
      " [2146 1308]\n",
      " [2195 1287]\n",
      " [1777 1007]\n",
      " [1827  975]\n",
      " [1885  970]\n",
      " [1949 1004]\n",
      " [1889 1015]\n",
      " [1829 1019]\n",
      " [2196  979]\n",
      " [2250  934]\n",
      " [2310  922]\n",
      " [2367  942]\n",
      " [2321  969]\n",
      " [2259  977]\n",
      " [1929 1442]\n",
      " [1985 1396]\n",
      " [2048 1371]\n",
      " [2101 1379]\n",
      " [2150 1363]\n",
      " [2220 1376]\n",
      " [2286 1416]\n",
      " [2231 1491]\n",
      " [2167 1535]\n",
      " [2112 1546]\n",
      " [2055 1543]\n",
      " [1990 1512]\n",
      " [1959 1441]\n",
      " [2051 1413]\n",
      " [2104 1414]\n",
      " [2155 1405]\n",
      " [2259 1421]\n",
      " [2159 1463]\n",
      " [2106 1474]\n",
      " [2052 1470]]\n"
     ]
    }
   ],
   "source": [
    "import dlib\n",
    "import numpy as np\n",
    "from skimage import io\n",
    "\n",
    "predictor_path = \"C:\\ShapePredictor\\shape_predictor_68_face_landmarks.dat\"\n",
    "\n",
    "detector = dlib.get_frontal_face_detector()\n",
    "predictor = dlib.shape_predictor(predictor_path)\n",
    "\n",
    "img = io.imread(\"bid.jpg\")\n",
    "\n",
    "dets = detector(img)\n",
    "\n",
    "#output face landmark points inside retangle\n",
    "#shape is points datatype\n",
    "#http://dlib.net/python/#dlib.point\n",
    "for k, d in enumerate(dets):\n",
    "    shape = predictor(img, d)\n",
    "\n",
    "vec = np.empty([68, 2], dtype = int)\n",
    "for b in range(68):\n",
    "    vec[b][0] = shape.part(b).x\n",
    "    vec[b][1] = shape.part(b).y\n",
    "\n",
    "print(vec)\n",
    "\n"
   ]
  },
  {
   "cell_type": "code",
   "execution_count": 12,
   "metadata": {},
   "outputs": [],
   "source": [
    "with open(\"bid.txt\",\"w\") as file:\n",
    "    for i in range(len(vec)):\n",
    "        outer=\"\"\n",
    "        outer+=str(vec[i])\n",
    "        file.write(outer)\n",
    "        file.write(\"\\n\")\n",
    "        \n",
    "    "
   ]
  },
  {
   "cell_type": "code",
   "execution_count": 13,
   "metadata": {},
   "outputs": [],
   "source": [
    "with open(\"bid.txt\",\"r\") as my_file:\n",
    "    text=my_file.read()\n",
    "    text= text.replace(\"[\",\"\")\n",
    "    text= text.replace(\"]\",\"\")\n",
    "#         my_file.write(text)\n",
    " \n",
    "with open(\"bid.txt\",\"w\") as file:\n",
    "    file.write(text)"
   ]
  },
  {
   "cell_type": "code",
   "execution_count": null,
   "metadata": {},
   "outputs": [],
   "source": []
  }
 ],
 "metadata": {
  "kernelspec": {
   "display_name": "Python 3",
   "language": "python",
   "name": "python3"
  },
  "language_info": {
   "codemirror_mode": {
    "name": "ipython",
    "version": 3
   },
   "file_extension": ".py",
   "mimetype": "text/x-python",
   "name": "python",
   "nbconvert_exporter": "python",
   "pygments_lexer": "ipython3",
   "version": "3.6.6"
  }
 },
 "nbformat": 4,
 "nbformat_minor": 2
}
